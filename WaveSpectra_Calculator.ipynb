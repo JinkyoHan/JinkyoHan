{
  "nbformat": 4,
  "nbformat_minor": 0,
  "metadata": {
    "colab": {
      "provenance": [],
      "authorship_tag": "ABX9TyOl7YKNlyNLgR/PMmj+UhXr",
      "include_colab_link": true
    },
    "kernelspec": {
      "name": "python3",
      "display_name": "Python 3"
    },
    "language_info": {
      "name": "python"
    }
  },
  "cells": [
    {
      "cell_type": "markdown",
      "metadata": {
        "id": "view-in-github",
        "colab_type": "text"
      },
      "source": [
        "<a href=\"https://colab.research.google.com/github/JinkyoHan/JinkyoHan/blob/main/WaveSpectra_Calculator.ipynb\" target=\"_parent\"><img src=\"https://colab.research.google.com/assets/colab-badge.svg\" alt=\"Open In Colab\"/></a>"
      ]
    },
    {
      "cell_type": "markdown",
      "source": [
        "# Input File은 다음과 같은 포맷으로 정리되어 있어야 합니다.\n",
        "- Column: Mean Period [sec]\n",
        "- Row : Significant Wave Height [m]\n",
        "\n",
        "\n",
        "![image.png](data:image/png;base64,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)"
      ],
      "metadata": {
        "id": "ylr2DxnC3Nuw"
      }
    },
    {
      "cell_type": "code",
      "execution_count": 2,
      "metadata": {
        "colab": {
          "base_uri": "https://localhost:8080/"
        },
        "id": "wGAVLZQm2-Je",
        "outputId": "e512d1b4-6f11-4891-a812-cff14654767b"
      },
      "outputs": [
        {
          "output_type": "stream",
          "name": "stdout",
          "text": [
            "    4   6   8   10  12  14  16  18  20  22\n",
            "2   10  24  31  29  23  20  17  11   5   2\n",
            "4    4  36  68  56  51  42  31  17  11   4\n",
            "6    0  10  35  65  55  39  21  16  10   3\n",
            "8    0   2  21  31  32  28  17  11   6   2\n",
            "10   0   0   9  13  21  18  12   6   3   0\n",
            "12   0   0   1   1   2  11   2   2   1   0\n",
            "14   0   0   0   0   0   1   1   0   0   0\n"
          ]
        }
      ],
      "source": [
        "import pandas as pd\n",
        "import numpy as np\n",
        "from scipy.optimize import minimize\n",
        "\n",
        "# 각 column은 T_mean, row는 H_s여야 함\n",
        "df = pd.read_excel(\"HW4_P1_table.xlsx\", index_col=0)\n",
        "print(df)"
      ]
    },
    {
      "cell_type": "markdown",
      "source": [
        "# get_T_mean\n",
        "- 전체 평균 파 주기를 계산합니다.\n",
        "\n",
        "# calculate_Prob\n",
        "- 주어진 M_in_year에 대응되는 확률을 계산합니다.\n",
        "\n",
        "# Q\n",
        "- 특정 H가 발생할 확률을 계산합니다.\n",
        "\n",
        "# find_H\n",
        "- M_in_year에 대응되는 확률과 같은 확률을 가지는 H를 찾습니다."
      ],
      "metadata": {
        "id": "ooZNmlMF3wfY"
      }
    },
    {
      "cell_type": "code",
      "source": [
        "def get_T_mean(df):\n",
        "    weighted_sum = sum(df.columns * df.sum(axis=0))\n",
        "    total_frequency = df.sum().sum()\n",
        "    T = weighted_sum / total_frequency\n",
        "    return T\n",
        "\n",
        "def calculate_Prob(df, M_in_year):\n",
        "    return get_T_mean(df) / (365 * 24 * 3600 * M_in_year)\n",
        "\n",
        "def Q(df, H):\n",
        "    tot = df.sum().sum()\n",
        "    result = 0\n",
        "    for i in df.index:\n",
        "        result += (df.sum(axis=1)[i]/tot)*np.exp(-2*((H/i)**2))\n",
        "    return result\n",
        "\n",
        "def find_H(df, M):\n",
        "    # 차이를 최소화하는 함수\n",
        "    def objective(H):\n",
        "        return abs(calculate_Prob(df, M) - Q(df, H))\n",
        "\n",
        "    # 초기 H 값 (문제에 따라 조정 가능)\n",
        "    initial_H = 1\n",
        "\n",
        "    # 최적화 실행\n",
        "    result = minimize(objective, initial_H, method='Nelder-Mead')\n",
        "\n",
        "    if result.success:\n",
        "        return result.x[0]\n",
        "    else:\n",
        "        raise Exception(\"Optimization failed\")"
      ],
      "metadata": {
        "id": "oj93nwTL2_PC"
      },
      "execution_count": 3,
      "outputs": []
    },
    {
      "cell_type": "markdown",
      "source": [
        "# find_H(df, M)을 이용한 M년파의 파고 예측"
      ],
      "metadata": {
        "id": "l22hxlh-4Td4"
      }
    },
    {
      "cell_type": "code",
      "source": [
        "find_H(df, 10)"
      ],
      "metadata": {
        "colab": {
          "base_uri": "https://localhost:8080/"
        },
        "id": "mt2Y1D1g3AWl",
        "outputId": "79e53f3d-8334-4cdd-85f1-a94016baf8d0"
      },
      "execution_count": 6,
      "outputs": [
        {
          "output_type": "execute_result",
          "data": {
            "text/plain": [
              "32.90507812500007"
            ]
          },
          "metadata": {},
          "execution_count": 6
        }
      ]
    }
  ]
}